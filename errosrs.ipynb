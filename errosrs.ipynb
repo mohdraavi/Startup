{
  "nbformat": 4,
  "nbformat_minor": 0,
  "metadata": {
    "colab": {
      "provenance": [],
      "authorship_tag": "ABX9TyNx80z7KQje2BMjIq2cN3/A",
      "include_colab_link": true
    },
    "kernelspec": {
      "name": "python3",
      "display_name": "Python 3"
    },
    "language_info": {
      "name": "python"
    }
  },
  "cells": [
    {
      "cell_type": "markdown",
      "metadata": {
        "id": "view-in-github",
        "colab_type": "text"
      },
      "source": [
        "<a href=\"https://colab.research.google.com/github/mohdravi/Startup/blob/main/errosrs.ipynb\" target=\"_parent\"><img src=\"https://colab.research.google.com/assets/colab-badge.svg\" alt=\"Open In Colab\"/></a>"
      ]
    },
    {
      "cell_type": "code",
      "execution_count": null,
      "metadata": {
        "id": "KO4BlcBLW56Q"
      },
      "outputs": [],
      "source": [
        "A runtime error in Python (or any programming language) is an error that occurs while the program is running. These errors are also known as exceptions. Unlike syntax errors, which are detected by the Python interpreter before the program runs, runtime errors occur during the execution of the program.\n",
        "\n",
        "Common causes of runtime errors include:\n",
        "\n",
        "1. **Division by Zero:** Attempting to divide a number by zero.\n",
        "\n",
        "    ```python\n",
        "    result = 10 / 0  # This will raise a ZeroDivisionError\n",
        "    ```\n",
        "\n",
        "2. **NameError:** Using a variable or function that has not been defined.\n",
        "\n",
        "    ```python\n",
        "    print(undefined_variable)  # This will raise a NameError\n",
        "    ```\n",
        "\n",
        "3. **TypeError:** Performing an operation on an object of an inappropriate type.\n",
        "\n",
        "    ```python\n",
        "    result = \"5\" + 3  # This will raise a TypeError\n",
        "    ```\n",
        "\n",
        "4. **IndexError:** Accessing an index that is out of range in a list or another iterable.\n",
        "\n",
        "    ```python\n",
        "    my_list = [1, 2, 3]\n",
        "    print(my_list[5])  # This will raise an IndexError\n",
        "    ```\n",
        "\n",
        "5. **FileNotFoundError:** Trying to open or access a file that does not exist.\n",
        "\n",
        "    ```python\n",
        "    with open('nonexistent_file.txt', 'r') as file:\n",
        "        content = file.read()  # This will raise a FileNotFoundError\n",
        "    ```\n",
        "\n",
        "Handling runtime errors is important in writing robust programs. You can use try-except blocks to catch and handle exceptions gracefully, preventing the program from crashing. Here's an example:\n",
        "\n",
        "```python\n",
        "try:\n",
        "    result = 10 / 0\n",
        "except ZeroDivisionError:\n",
        "    print(\"Error: Division by zero\")\n",
        "```\n",
        "\n",
        "By using try-except blocks, you can identify potential issues, handle them appropriately, and allow your program to continue running without crashing."
      ]
    }
  ]
}